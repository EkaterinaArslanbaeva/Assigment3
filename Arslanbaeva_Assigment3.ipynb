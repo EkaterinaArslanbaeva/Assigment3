{
 "cells": [
  {
   "cell_type": "markdown",
   "metadata": {
    "id": "Z49uG7jtV8jM"
   },
   "source": [
    "<a href=\"https://colab.research.google.com/github/EkaterinaArslanbaeva/Assigment3/blob/main/Arslanbaeva_Assigment3.ipynb\" target=\"_parent\"><img src=\"https://colab.research.google.com/assets/colab-badge.svg\" alt=\"Open In Colab\"/></a>\n",
    "# Ekaterina Arslanbaeva Assigment 3\n",
    "\n",
    "## Abstract\n",
    "\n",
    "In my 30's I am worried about my health the most, so human health is the topic I am interested in. For this assignment, I selected datasets related to human health.\n",
    "\n",
    "### Linear Regression\n",
    "For the first half of the assignment, which is performing a linear regression algorithm, I selected the dataset \"World Bank WDI  2.12 - Health Systems\" from kaggle.com. This dataset has a usability score of 10.0 and 14 columns. Most of them quantitative columns, which makes it the perfect selection for this assignment's first half. The dataset describes spending for the citizen's health per capita by Country, as well as the number of doctors, nurses, and surgeon staff per capita.\n",
    "\n",
    "I assume a strict correlation between the amount of money spent on the health system in the city and the number of professional health staff the city has. In this assignment, I will predict the number of doctors in the city per 1000 people by provided spendings for the health system in the United States dollar currency. I hope to find proof of this assumption by using a linear regression model.\n",
    "\n",
    "### Binary Classifier: Decision Tree\n",
    "For the second half of the assignment, I decided to to the decision tree algorithm. For this task, I selected \"US Health Insurance Dataset\" from kaggle.com. This dataset has usability 9.4 and 7 columns, half of the columns are quantitative, and the other half qualitative features that can be mapped, which makes it good for the second half of the assignment. This dataset describes insurance charges in the united states with information about insured people. The information includes age, sex, BMI, number of children, if insured person smoker or not, and region of living.\n",
    "\n",
    "It is hard for me to make assumptions before starting to analyze this dataset, but I suggest that I will be able to predict if a person is a smoker or not by providing all other features in model prediction. I hope to find that prediction is accurate by providing information about people I know, including myself.\n"
   ]
  },
  {
   "cell_type": "markdown",
   "metadata": {
    "id": "InCHrzabV8jW"
   },
   "source": [
    "## Section 1: Prepping the Regression datasets\n",
    "\n",
    "The columns of the dataset are different types of expenses for human health in cities all around the world and the number of medical staff in this city for every thousand citizens of that city. You can see the columns in the first fifteen rows, which printed below. The major libraries I will use to perform all needed steps are pandas, NumPy, and sklearn."
   ]
  },
  {
   "cell_type": "code",
   "execution_count": 165,
   "metadata": {},
   "outputs": [],
   "source": [
    "import pandas as pd\n",
    "import numpy as np\n",
    "\n",
    "import matplotlib.pyplot as plt # plotting\n",
    "import seaborn as sns # plotting\n",
    "sns.set()\n",
    "import warnings # turn off warnings for final notebook\n",
    "warnings.filterwarnings(\"ignore\")\n",
    "import os # accessing directory structure\n",
    "\n",
    "from matplotlib.colors import ListedColormap\n",
    "\n",
    "from sklearn.model_selection import train_test_split \n",
    "from sklearn.linear_model import LinearRegression\n",
    "from sklearn import metrics\n",
    "%matplotlib inline"
   ]
  },
  {
   "cell_type": "code",
   "execution_count": 166,
   "metadata": {},
   "outputs": [],
   "source": [
    "health = pd.read_csv('Health_systems.csv') #import dtaset using pandas"
   ]
  },
  {
   "cell_type": "code",
   "execution_count": 167,
   "metadata": {},
   "outputs": [
    {
     "data": {
      "text/html": [
       "<div>\n",
       "<style scoped>\n",
       "    .dataframe tbody tr th:only-of-type {\n",
       "        vertical-align: middle;\n",
       "    }\n",
       "\n",
       "    .dataframe tbody tr th {\n",
       "        vertical-align: top;\n",
       "    }\n",
       "\n",
       "    .dataframe thead th {\n",
       "        text-align: right;\n",
       "    }\n",
       "</style>\n",
       "<table border=\"1\" class=\"dataframe\">\n",
       "  <thead>\n",
       "    <tr style=\"text-align: right;\">\n",
       "      <th></th>\n",
       "      <th>Country_Region</th>\n",
       "      <th>Province_State</th>\n",
       "      <th>World_Bank_Name</th>\n",
       "      <th>Health_exp_pct_GDP_2016</th>\n",
       "      <th>Health_exp_public_pct_2016</th>\n",
       "      <th>Health_exp_out_of_pocket_pct_2016</th>\n",
       "      <th>Health_exp_per_capita_USD_2016</th>\n",
       "      <th>per_capita_exp_PPP_2016</th>\n",
       "      <th>External_health_exp_pct_2016</th>\n",
       "      <th>Physicians_per_1000_2009-18</th>\n",
       "      <th>Nurse_midwife_per_1000_2009-18</th>\n",
       "      <th>Specialist_surgical_per_1000_2008-18</th>\n",
       "      <th>Completeness_of_birth_reg_2009-18</th>\n",
       "      <th>Completeness_of_death_reg_2008-16</th>\n",
       "    </tr>\n",
       "  </thead>\n",
       "  <tbody>\n",
       "    <tr>\n",
       "      <th>0</th>\n",
       "      <td>Afghanistan</td>\n",
       "      <td>NaN</td>\n",
       "      <td>Afghanistan</td>\n",
       "      <td>10.2</td>\n",
       "      <td>5.1</td>\n",
       "      <td>77.4</td>\n",
       "      <td>57.2</td>\n",
       "      <td>162.8</td>\n",
       "      <td>17.5</td>\n",
       "      <td>0.3</td>\n",
       "      <td>0.3</td>\n",
       "      <td>0.0</td>\n",
       "      <td>42.3</td>\n",
       "      <td>NaN</td>\n",
       "    </tr>\n",
       "    <tr>\n",
       "      <th>1</th>\n",
       "      <td>Albania</td>\n",
       "      <td>NaN</td>\n",
       "      <td>Albania</td>\n",
       "      <td>6.7</td>\n",
       "      <td>41.4</td>\n",
       "      <td>58.0</td>\n",
       "      <td>271.5</td>\n",
       "      <td>759.7</td>\n",
       "      <td>0.7</td>\n",
       "      <td>1.2</td>\n",
       "      <td>3.6</td>\n",
       "      <td>11.6</td>\n",
       "      <td>98.4</td>\n",
       "      <td>53.0</td>\n",
       "    </tr>\n",
       "    <tr>\n",
       "      <th>2</th>\n",
       "      <td>Algeria</td>\n",
       "      <td>NaN</td>\n",
       "      <td>Algeria</td>\n",
       "      <td>6.6</td>\n",
       "      <td>67.7</td>\n",
       "      <td>30.9</td>\n",
       "      <td>260.4</td>\n",
       "      <td>998.2</td>\n",
       "      <td>0.0</td>\n",
       "      <td>1.8</td>\n",
       "      <td>2.2</td>\n",
       "      <td>12.1</td>\n",
       "      <td>100.0</td>\n",
       "      <td>NaN</td>\n",
       "    </tr>\n",
       "    <tr>\n",
       "      <th>3</th>\n",
       "      <td>Andorra</td>\n",
       "      <td>NaN</td>\n",
       "      <td>Andorra</td>\n",
       "      <td>10.4</td>\n",
       "      <td>49.1</td>\n",
       "      <td>41.7</td>\n",
       "      <td>3834.7</td>\n",
       "      <td>4978.7</td>\n",
       "      <td>NaN</td>\n",
       "      <td>3.3</td>\n",
       "      <td>4.0</td>\n",
       "      <td>83.1</td>\n",
       "      <td>100.0</td>\n",
       "      <td>80.0</td>\n",
       "    </tr>\n",
       "    <tr>\n",
       "      <th>4</th>\n",
       "      <td>Angola</td>\n",
       "      <td>NaN</td>\n",
       "      <td>Angola</td>\n",
       "      <td>2.9</td>\n",
       "      <td>44.1</td>\n",
       "      <td>35.2</td>\n",
       "      <td>95.2</td>\n",
       "      <td>185.8</td>\n",
       "      <td>3.6</td>\n",
       "      <td>0.2</td>\n",
       "      <td>1.3</td>\n",
       "      <td>NaN</td>\n",
       "      <td>25.0</td>\n",
       "      <td>NaN</td>\n",
       "    </tr>\n",
       "    <tr>\n",
       "      <th>5</th>\n",
       "      <td>Antigua and Barbuda</td>\n",
       "      <td>NaN</td>\n",
       "      <td>Antigua and Barbuda</td>\n",
       "      <td>4.3</td>\n",
       "      <td>60.6</td>\n",
       "      <td>32.2</td>\n",
       "      <td>623.1</td>\n",
       "      <td>976.4</td>\n",
       "      <td>0.0</td>\n",
       "      <td>2.8</td>\n",
       "      <td>3.1</td>\n",
       "      <td>14.0</td>\n",
       "      <td>NaN</td>\n",
       "      <td>79.0</td>\n",
       "    </tr>\n",
       "    <tr>\n",
       "      <th>6</th>\n",
       "      <td>Argentina</td>\n",
       "      <td>NaN</td>\n",
       "      <td>Argentina</td>\n",
       "      <td>7.5</td>\n",
       "      <td>74.4</td>\n",
       "      <td>15.8</td>\n",
       "      <td>955.2</td>\n",
       "      <td>1531.0</td>\n",
       "      <td>0.6</td>\n",
       "      <td>4.0</td>\n",
       "      <td>2.6</td>\n",
       "      <td>50.1</td>\n",
       "      <td>100.0</td>\n",
       "      <td>100.0</td>\n",
       "    </tr>\n",
       "    <tr>\n",
       "      <th>7</th>\n",
       "      <td>Armenia</td>\n",
       "      <td>NaN</td>\n",
       "      <td>Armenia</td>\n",
       "      <td>9.9</td>\n",
       "      <td>16.5</td>\n",
       "      <td>80.6</td>\n",
       "      <td>358.8</td>\n",
       "      <td>876.9</td>\n",
       "      <td>1.7</td>\n",
       "      <td>2.9</td>\n",
       "      <td>5.6</td>\n",
       "      <td>86.7</td>\n",
       "      <td>99.3</td>\n",
       "      <td>76.0</td>\n",
       "    </tr>\n",
       "    <tr>\n",
       "      <th>8</th>\n",
       "      <td>Australia</td>\n",
       "      <td>NaN</td>\n",
       "      <td>Australia</td>\n",
       "      <td>9.3</td>\n",
       "      <td>68.3</td>\n",
       "      <td>18.9</td>\n",
       "      <td>5002.4</td>\n",
       "      <td>4529.9</td>\n",
       "      <td>0.0</td>\n",
       "      <td>3.6</td>\n",
       "      <td>12.7</td>\n",
       "      <td>45.1</td>\n",
       "      <td>100.0</td>\n",
       "      <td>100.0</td>\n",
       "    </tr>\n",
       "    <tr>\n",
       "      <th>9</th>\n",
       "      <td>Austria</td>\n",
       "      <td>NaN</td>\n",
       "      <td>Austria</td>\n",
       "      <td>10.4</td>\n",
       "      <td>72.5</td>\n",
       "      <td>18.9</td>\n",
       "      <td>4688.3</td>\n",
       "      <td>5295.2</td>\n",
       "      <td>NaN</td>\n",
       "      <td>5.1</td>\n",
       "      <td>8.2</td>\n",
       "      <td>109.9</td>\n",
       "      <td>100.0</td>\n",
       "      <td>100.0</td>\n",
       "    </tr>\n",
       "    <tr>\n",
       "      <th>10</th>\n",
       "      <td>Azerbaijan</td>\n",
       "      <td>NaN</td>\n",
       "      <td>Azerbaijan</td>\n",
       "      <td>6.9</td>\n",
       "      <td>20.0</td>\n",
       "      <td>78.9</td>\n",
       "      <td>268.2</td>\n",
       "      <td>1193.1</td>\n",
       "      <td>0.4</td>\n",
       "      <td>3.4</td>\n",
       "      <td>7.0</td>\n",
       "      <td>67.6</td>\n",
       "      <td>NaN</td>\n",
       "      <td>NaN</td>\n",
       "    </tr>\n",
       "    <tr>\n",
       "      <th>11</th>\n",
       "      <td>Bahamas</td>\n",
       "      <td>NaN</td>\n",
       "      <td>Bahamas, The</td>\n",
       "      <td>6.4</td>\n",
       "      <td>49.9</td>\n",
       "      <td>27.7</td>\n",
       "      <td>1835.2</td>\n",
       "      <td>1435.6</td>\n",
       "      <td>0.4</td>\n",
       "      <td>1.9</td>\n",
       "      <td>3.1</td>\n",
       "      <td>NaN</td>\n",
       "      <td>NaN</td>\n",
       "      <td>93.0</td>\n",
       "    </tr>\n",
       "    <tr>\n",
       "      <th>12</th>\n",
       "      <td>Bahrain</td>\n",
       "      <td>NaN</td>\n",
       "      <td>Bahrain</td>\n",
       "      <td>4.9</td>\n",
       "      <td>61.4</td>\n",
       "      <td>28.0</td>\n",
       "      <td>1099.4</td>\n",
       "      <td>1866.3</td>\n",
       "      <td>0.0</td>\n",
       "      <td>0.9</td>\n",
       "      <td>2.5</td>\n",
       "      <td>14.4</td>\n",
       "      <td>NaN</td>\n",
       "      <td>88.0</td>\n",
       "    </tr>\n",
       "    <tr>\n",
       "      <th>13</th>\n",
       "      <td>Bangladesh</td>\n",
       "      <td>NaN</td>\n",
       "      <td>Bangladesh</td>\n",
       "      <td>2.4</td>\n",
       "      <td>18.0</td>\n",
       "      <td>71.9</td>\n",
       "      <td>34.2</td>\n",
       "      <td>90.6</td>\n",
       "      <td>7.6</td>\n",
       "      <td>0.5</td>\n",
       "      <td>0.3</td>\n",
       "      <td>2.9</td>\n",
       "      <td>20.2</td>\n",
       "      <td>NaN</td>\n",
       "    </tr>\n",
       "    <tr>\n",
       "      <th>14</th>\n",
       "      <td>Barbados</td>\n",
       "      <td>NaN</td>\n",
       "      <td>Barbados</td>\n",
       "      <td>7.0</td>\n",
       "      <td>45.9</td>\n",
       "      <td>45.2</td>\n",
       "      <td>1163.8</td>\n",
       "      <td>1323.0</td>\n",
       "      <td>1.7</td>\n",
       "      <td>2.5</td>\n",
       "      <td>6.0</td>\n",
       "      <td>17.2</td>\n",
       "      <td>99.0</td>\n",
       "      <td>100.0</td>\n",
       "    </tr>\n",
       "  </tbody>\n",
       "</table>\n",
       "</div>"
      ],
      "text/plain": [
       "         Country_Region Province_State      World_Bank_Name  \\\n",
       "0           Afghanistan            NaN          Afghanistan   \n",
       "1               Albania            NaN              Albania   \n",
       "2               Algeria            NaN              Algeria   \n",
       "3               Andorra            NaN              Andorra   \n",
       "4                Angola            NaN               Angola   \n",
       "5   Antigua and Barbuda            NaN  Antigua and Barbuda   \n",
       "6             Argentina            NaN            Argentina   \n",
       "7               Armenia            NaN              Armenia   \n",
       "8             Australia            NaN            Australia   \n",
       "9               Austria            NaN              Austria   \n",
       "10           Azerbaijan            NaN           Azerbaijan   \n",
       "11              Bahamas            NaN         Bahamas, The   \n",
       "12              Bahrain            NaN              Bahrain   \n",
       "13           Bangladesh            NaN           Bangladesh   \n",
       "14             Barbados            NaN             Barbados   \n",
       "\n",
       "    Health_exp_pct_GDP_2016  Health_exp_public_pct_2016  \\\n",
       "0                      10.2                         5.1   \n",
       "1                       6.7                        41.4   \n",
       "2                       6.6                        67.7   \n",
       "3                      10.4                        49.1   \n",
       "4                       2.9                        44.1   \n",
       "5                       4.3                        60.6   \n",
       "6                       7.5                        74.4   \n",
       "7                       9.9                        16.5   \n",
       "8                       9.3                        68.3   \n",
       "9                      10.4                        72.5   \n",
       "10                      6.9                        20.0   \n",
       "11                      6.4                        49.9   \n",
       "12                      4.9                        61.4   \n",
       "13                      2.4                        18.0   \n",
       "14                      7.0                        45.9   \n",
       "\n",
       "    Health_exp_out_of_pocket_pct_2016  Health_exp_per_capita_USD_2016  \\\n",
       "0                                77.4                            57.2   \n",
       "1                                58.0                           271.5   \n",
       "2                                30.9                           260.4   \n",
       "3                                41.7                          3834.7   \n",
       "4                                35.2                            95.2   \n",
       "5                                32.2                           623.1   \n",
       "6                                15.8                           955.2   \n",
       "7                                80.6                           358.8   \n",
       "8                                18.9                          5002.4   \n",
       "9                                18.9                          4688.3   \n",
       "10                               78.9                           268.2   \n",
       "11                               27.7                          1835.2   \n",
       "12                               28.0                          1099.4   \n",
       "13                               71.9                            34.2   \n",
       "14                               45.2                          1163.8   \n",
       "\n",
       "    per_capita_exp_PPP_2016  External_health_exp_pct_2016  \\\n",
       "0                     162.8                          17.5   \n",
       "1                     759.7                           0.7   \n",
       "2                     998.2                           0.0   \n",
       "3                    4978.7                           NaN   \n",
       "4                     185.8                           3.6   \n",
       "5                     976.4                           0.0   \n",
       "6                    1531.0                           0.6   \n",
       "7                     876.9                           1.7   \n",
       "8                    4529.9                           0.0   \n",
       "9                    5295.2                           NaN   \n",
       "10                   1193.1                           0.4   \n",
       "11                   1435.6                           0.4   \n",
       "12                   1866.3                           0.0   \n",
       "13                     90.6                           7.6   \n",
       "14                   1323.0                           1.7   \n",
       "\n",
       "    Physicians_per_1000_2009-18  Nurse_midwife_per_1000_2009-18  \\\n",
       "0                           0.3                             0.3   \n",
       "1                           1.2                             3.6   \n",
       "2                           1.8                             2.2   \n",
       "3                           3.3                             4.0   \n",
       "4                           0.2                             1.3   \n",
       "5                           2.8                             3.1   \n",
       "6                           4.0                             2.6   \n",
       "7                           2.9                             5.6   \n",
       "8                           3.6                            12.7   \n",
       "9                           5.1                             8.2   \n",
       "10                          3.4                             7.0   \n",
       "11                          1.9                             3.1   \n",
       "12                          0.9                             2.5   \n",
       "13                          0.5                             0.3   \n",
       "14                          2.5                             6.0   \n",
       "\n",
       "    Specialist_surgical_per_1000_2008-18  Completeness_of_birth_reg_2009-18  \\\n",
       "0                                    0.0                               42.3   \n",
       "1                                   11.6                               98.4   \n",
       "2                                   12.1                              100.0   \n",
       "3                                   83.1                              100.0   \n",
       "4                                    NaN                               25.0   \n",
       "5                                   14.0                                NaN   \n",
       "6                                   50.1                              100.0   \n",
       "7                                   86.7                               99.3   \n",
       "8                                   45.1                              100.0   \n",
       "9                                  109.9                              100.0   \n",
       "10                                  67.6                                NaN   \n",
       "11                                   NaN                                NaN   \n",
       "12                                  14.4                                NaN   \n",
       "13                                   2.9                               20.2   \n",
       "14                                  17.2                               99.0   \n",
       "\n",
       "    Completeness_of_death_reg_2008-16  \n",
       "0                                 NaN  \n",
       "1                                53.0  \n",
       "2                                 NaN  \n",
       "3                                80.0  \n",
       "4                                 NaN  \n",
       "5                                79.0  \n",
       "6                               100.0  \n",
       "7                                76.0  \n",
       "8                               100.0  \n",
       "9                               100.0  \n",
       "10                                NaN  \n",
       "11                               93.0  \n",
       "12                               88.0  \n",
       "13                                NaN  \n",
       "14                              100.0  "
      ]
     },
     "execution_count": 167,
     "metadata": {},
     "output_type": "execute_result"
    }
   ],
   "source": [
    "health.head(15) #first 15 rows of data"
   ]
  },
  {
   "cell_type": "code",
   "execution_count": 168,
   "metadata": {},
   "outputs": [
    {
     "data": {
      "text/plain": [
       "(array([ 0.5,  1.5,  2.5,  3.5,  4.5,  5.5,  6.5,  7.5,  8.5,  9.5, 10.5]),\n",
       " [Text(0.5, 0, 'Health_exp_pct_GDP_2016'),\n",
       "  Text(1.5, 0, 'Health_exp_public_pct_2016'),\n",
       "  Text(2.5, 0, 'Health_exp_out_of_pocket_pct_2016'),\n",
       "  Text(3.5, 0, 'Health_exp_per_capita_USD_2016'),\n",
       "  Text(4.5, 0, 'per_capita_exp_PPP_2016'),\n",
       "  Text(5.5, 0, 'External_health_exp_pct_2016'),\n",
       "  Text(6.5, 0, 'Physicians_per_1000_2009-18'),\n",
       "  Text(7.5, 0, 'Nurse_midwife_per_1000_2009-18'),\n",
       "  Text(8.5, 0, 'Specialist_surgical_per_1000_2008-18'),\n",
       "  Text(9.5, 0, 'Completeness_of_birth_reg_2009-18'),\n",
       "  Text(10.5, 0, 'Completeness_of_death_reg_2008-16')])"
      ]
     },
     "execution_count": 168,
     "metadata": {},
     "output_type": "execute_result"
    },
    {
     "data": {
      "image/png": "[encoded data removed]",
      "text/plain": [
       "<Figure size 432x288 with 2 Axes>"
      ]
     },
     "metadata": {
      "needs_background": "light"
     },
     "output_type": "display_data"
    }
   ],
   "source": [
    "#heatmap to undentify possible high correlation values between the features\n",
    "import seaborn as sns \n",
    "correlations = health.corr()\n",
    "sns.heatmap(data=correlations, square=True, cmap=\"bwr\")\n",
    "\n",
    "plt.yticks(rotation=0)\n",
    "plt.xticks(rotation =90)"
   ]
  },
  {
   "cell_type": "markdown",
   "metadata": {
    "id": "97rnXb91V8jY"
   },
   "source": [
    "On the heatmap above, I can see a pretty high, about 0.7, the correlation value between the number of physicians and spendings in USD per capita. That means I can use these values to perform simple linear regression. The number of physicians will be my target value in this case. I will create a new dataset with just these two columns since I am no longer interested in other data from this dataset."
   ]
  },
  {
   "cell_type": "code",
   "execution_count": 169,
   "metadata": {},
   "outputs": [],
   "source": [
    "#Columns used for simple linear regression: Health_exp_per_capita_USD_2016, Physicians_per_1000_2009-18"
   ]
  },
  {
   "cell_type": "code",
   "execution_count": 170,
   "metadata": {},
   "outputs": [
    {
     "data": {
      "text/html": [
       "<div>\n",
       "<style scoped>\n",
       "    .dataframe tbody tr th:only-of-type {\n",
       "        vertical-align: middle;\n",
       "    }\n",
       "\n",
       "    .dataframe tbody tr th {\n",
       "        vertical-align: top;\n",
       "    }\n",
       "\n",
       "    .dataframe thead th {\n",
       "        text-align: right;\n",
       "    }\n",
       "</style>\n",
       "<table border=\"1\" class=\"dataframe\">\n",
       "  <thead>\n",
       "    <tr style=\"text-align: right;\">\n",
       "      <th></th>\n",
       "      <th>Health_exp_per_capita_USD_2016</th>\n",
       "      <th>Physicians_per_1000_2009-18</th>\n",
       "    </tr>\n",
       "  </thead>\n",
       "  <tbody>\n",
       "    <tr>\n",
       "      <th>0</th>\n",
       "      <td>57.2</td>\n",
       "      <td>0.3</td>\n",
       "    </tr>\n",
       "    <tr>\n",
       "      <th>1</th>\n",
       "      <td>271.5</td>\n",
       "      <td>1.2</td>\n",
       "    </tr>\n",
       "    <tr>\n",
       "      <th>2</th>\n",
       "      <td>260.4</td>\n",
       "      <td>1.8</td>\n",
       "    </tr>\n",
       "    <tr>\n",
       "      <th>3</th>\n",
       "      <td>3834.7</td>\n",
       "      <td>3.3</td>\n",
       "    </tr>\n",
       "    <tr>\n",
       "      <th>4</th>\n",
       "      <td>95.2</td>\n",
       "      <td>0.2</td>\n",
       "    </tr>\n",
       "    <tr>\n",
       "      <th>5</th>\n",
       "      <td>623.1</td>\n",
       "      <td>2.8</td>\n",
       "    </tr>\n",
       "    <tr>\n",
       "      <th>6</th>\n",
       "      <td>955.2</td>\n",
       "      <td>4.0</td>\n",
       "    </tr>\n",
       "    <tr>\n",
       "      <th>7</th>\n",
       "      <td>358.8</td>\n",
       "      <td>2.9</td>\n",
       "    </tr>\n",
       "    <tr>\n",
       "      <th>8</th>\n",
       "      <td>5002.4</td>\n",
       "      <td>3.6</td>\n",
       "    </tr>\n",
       "    <tr>\n",
       "      <th>9</th>\n",
       "      <td>4688.3</td>\n",
       "      <td>5.1</td>\n",
       "    </tr>\n",
       "    <tr>\n",
       "      <th>10</th>\n",
       "      <td>268.2</td>\n",
       "      <td>3.4</td>\n",
       "    </tr>\n",
       "    <tr>\n",
       "      <th>11</th>\n",
       "      <td>1835.2</td>\n",
       "      <td>1.9</td>\n",
       "    </tr>\n",
       "    <tr>\n",
       "      <th>12</th>\n",
       "      <td>1099.4</td>\n",
       "      <td>0.9</td>\n",
       "    </tr>\n",
       "    <tr>\n",
       "      <th>13</th>\n",
       "      <td>34.2</td>\n",
       "      <td>0.5</td>\n",
       "    </tr>\n",
       "    <tr>\n",
       "      <th>14</th>\n",
       "      <td>1163.8</td>\n",
       "      <td>2.5</td>\n",
       "    </tr>\n",
       "  </tbody>\n",
       "</table>\n",
       "</div>"
      ],
      "text/plain": [
       "    Health_exp_per_capita_USD_2016  Physicians_per_1000_2009-18\n",
       "0                             57.2                          0.3\n",
       "1                            271.5                          1.2\n",
       "2                            260.4                          1.8\n",
       "3                           3834.7                          3.3\n",
       "4                             95.2                          0.2\n",
       "5                            623.1                          2.8\n",
       "6                            955.2                          4.0\n",
       "7                            358.8                          2.9\n",
       "8                           5002.4                          3.6\n",
       "9                           4688.3                          5.1\n",
       "10                           268.2                          3.4\n",
       "11                          1835.2                          1.9\n",
       "12                          1099.4                          0.9\n",
       "13                            34.2                          0.5\n",
       "14                          1163.8                          2.5"
      ]
     },
     "execution_count": 170,
     "metadata": {},
     "output_type": "execute_result"
    }
   ],
   "source": [
    "dataset1 = health[[\"Health_exp_per_capita_USD_2016\", \"Physicians_per_1000_2009-18\"]]\n",
    "dataset1.head(15)"
   ]
  },
  {
   "cell_type": "code",
   "execution_count": 171,
   "metadata": {},
   "outputs": [
    {
     "data": {
      "text/plain": [
       "(210, 2)"
      ]
     },
     "execution_count": 171,
     "metadata": {},
     "output_type": "execute_result"
    }
   ],
   "source": [
    "dataset1.shape"
   ]
  },
  {
   "cell_type": "code",
   "execution_count": 172,
   "metadata": {},
   "outputs": [
    {
     "data": {
      "image/png": "[encoded data removed]",
      "text/plain": [
       "<Figure size 432x288 with 1 Axes>"
      ]
     },
     "metadata": {
      "needs_background": "light"
     },
     "output_type": "display_data"
    }
   ],
   "source": [
    "plt.scatter(health[\"Health_exp_per_capita_USD_2016\"], health[\"Physicians_per_1000_2009-18\"], color='y', alpha=.7)\n",
    "plt.title(\"Data\")\n",
    "plt.xlabel(\"Health_exp_per_capita_USD_2016\")\n",
    "plt.ylabel(\"Physicians_per_1000_2009-18\")\n",
    "plt.show()"
   ]
  },
  {
   "cell_type": "markdown",
   "metadata": {},
   "source": [
    "The dataset has 210 rows before it is clean up. in the next step, I will get rid of outliers in the data and rows which consist not valid data. I can see possible outliers in the data."
   ]
  },
  {
   "cell_type": "code",
   "execution_count": 173,
   "metadata": {
    "id": "9vhZhpfnV8jY"
   },
   "outputs": [],
   "source": [
    "dataset2 = dataset1[(dataset1[\"Health_exp_per_capita_USD_2016\"] < 6000)]\n",
    "dataset = dataset2 [(dataset2[\"Physicians_per_1000_2009-18\"] < 6)]"
   ]
  },
  {
   "cell_type": "code",
   "execution_count": 174,
   "metadata": {},
   "outputs": [],
   "source": [
    "dataset[\"Health_exp_per_capita_USD_2016\"].replace('', np.nan, inplace=True)"
   ]
  },
  {
   "cell_type": "code",
   "execution_count": 175,
   "metadata": {},
   "outputs": [],
   "source": [
    "dataset.dropna(subset=[\"Health_exp_per_capita_USD_2016\"], inplace=True)"
   ]
  },
  {
   "cell_type": "code",
   "execution_count": 176,
   "metadata": {},
   "outputs": [
    {
     "data": {
      "text/plain": [
       "(177, 2)"
      ]
     },
     "execution_count": 176,
     "metadata": {},
     "output_type": "execute_result"
    }
   ],
   "source": [
    "dataset.shape"
   ]
  },
  {
   "cell_type": "code",
   "execution_count": 177,
   "metadata": {},
   "outputs": [],
   "source": [
    "dataset[\"Physicians_per_1000_2009-18\"].replace('', np.nan, inplace=True)"
   ]
  },
  {
   "cell_type": "code",
   "execution_count": 178,
   "metadata": {},
   "outputs": [],
   "source": [
    "dataset.dropna(subset=[\"Physicians_per_1000_2009-18\"], inplace=True)"
   ]
  },
  {
   "cell_type": "code",
   "execution_count": 179,
   "metadata": {},
   "outputs": [
    {
     "data": {
      "text/plain": [
       "(177, 2)"
      ]
     },
     "execution_count": 179,
     "metadata": {},
     "output_type": "execute_result"
    }
   ],
   "source": [
    "dataset.shape"
   ]
  },
  {
   "cell_type": "markdown",
   "metadata": {},
   "source": [
    "After finished the dataset clean-up, I have 177 data rows to work with."
   ]
  },
  {
   "cell_type": "code",
   "execution_count": 180,
   "metadata": {},
   "outputs": [
    {
     "data": {
      "text/html": [
       "<div>\n",
       "<style scoped>\n",
       "    .dataframe tbody tr th:only-of-type {\n",
       "        vertical-align: middle;\n",
       "    }\n",
       "\n",
       "    .dataframe tbody tr th {\n",
       "        vertical-align: top;\n",
       "    }\n",
       "\n",
       "    .dataframe thead th {\n",
       "        text-align: right;\n",
       "    }\n",
       "</style>\n",
       "<table border=\"1\" class=\"dataframe\">\n",
       "  <thead>\n",
       "    <tr style=\"text-align: right;\">\n",
       "      <th></th>\n",
       "      <th>Health_exp_per_capita_USD_2016</th>\n",
       "      <th>Physicians_per_1000_2009-18</th>\n",
       "    </tr>\n",
       "  </thead>\n",
       "  <tbody>\n",
       "    <tr>\n",
       "      <th>0</th>\n",
       "      <td>57.2</td>\n",
       "      <td>0.3</td>\n",
       "    </tr>\n",
       "    <tr>\n",
       "      <th>1</th>\n",
       "      <td>271.5</td>\n",
       "      <td>1.2</td>\n",
       "    </tr>\n",
       "    <tr>\n",
       "      <th>2</th>\n",
       "      <td>260.4</td>\n",
       "      <td>1.8</td>\n",
       "    </tr>\n",
       "    <tr>\n",
       "      <th>3</th>\n",
       "      <td>3834.7</td>\n",
       "      <td>3.3</td>\n",
       "    </tr>\n",
       "    <tr>\n",
       "      <th>4</th>\n",
       "      <td>95.2</td>\n",
       "      <td>0.2</td>\n",
       "    </tr>\n",
       "    <tr>\n",
       "      <th>5</th>\n",
       "      <td>623.1</td>\n",
       "      <td>2.8</td>\n",
       "    </tr>\n",
       "    <tr>\n",
       "      <th>6</th>\n",
       "      <td>955.2</td>\n",
       "      <td>4.0</td>\n",
       "    </tr>\n",
       "    <tr>\n",
       "      <th>7</th>\n",
       "      <td>358.8</td>\n",
       "      <td>2.9</td>\n",
       "    </tr>\n",
       "    <tr>\n",
       "      <th>8</th>\n",
       "      <td>5002.4</td>\n",
       "      <td>3.6</td>\n",
       "    </tr>\n",
       "    <tr>\n",
       "      <th>9</th>\n",
       "      <td>4688.3</td>\n",
       "      <td>5.1</td>\n",
       "    </tr>\n",
       "    <tr>\n",
       "      <th>10</th>\n",
       "      <td>268.2</td>\n",
       "      <td>3.4</td>\n",
       "    </tr>\n",
       "    <tr>\n",
       "      <th>11</th>\n",
       "      <td>1835.2</td>\n",
       "      <td>1.9</td>\n",
       "    </tr>\n",
       "    <tr>\n",
       "      <th>12</th>\n",
       "      <td>1099.4</td>\n",
       "      <td>0.9</td>\n",
       "    </tr>\n",
       "    <tr>\n",
       "      <th>13</th>\n",
       "      <td>34.2</td>\n",
       "      <td>0.5</td>\n",
       "    </tr>\n",
       "    <tr>\n",
       "      <th>14</th>\n",
       "      <td>1163.8</td>\n",
       "      <td>2.5</td>\n",
       "    </tr>\n",
       "  </tbody>\n",
       "</table>\n",
       "</div>"
      ],
      "text/plain": [
       "    Health_exp_per_capita_USD_2016  Physicians_per_1000_2009-18\n",
       "0                             57.2                          0.3\n",
       "1                            271.5                          1.2\n",
       "2                            260.4                          1.8\n",
       "3                           3834.7                          3.3\n",
       "4                             95.2                          0.2\n",
       "5                            623.1                          2.8\n",
       "6                            955.2                          4.0\n",
       "7                            358.8                          2.9\n",
       "8                           5002.4                          3.6\n",
       "9                           4688.3                          5.1\n",
       "10                           268.2                          3.4\n",
       "11                          1835.2                          1.9\n",
       "12                          1099.4                          0.9\n",
       "13                            34.2                          0.5\n",
       "14                          1163.8                          2.5"
      ]
     },
     "execution_count": 180,
     "metadata": {},
     "output_type": "execute_result"
    }
   ],
   "source": [
    "dataset.head(15)"
   ]
  },
  {
   "cell_type": "code",
   "execution_count": 181,
   "metadata": {},
   "outputs": [
    {
     "data": {
      "text/html": [
       "<div>\n",
       "<style scoped>\n",
       "    .dataframe tbody tr th:only-of-type {\n",
       "        vertical-align: middle;\n",
       "    }\n",
       "\n",
       "    .dataframe tbody tr th {\n",
       "        vertical-align: top;\n",
       "    }\n",
       "\n",
       "    .dataframe thead th {\n",
       "        text-align: right;\n",
       "    }\n",
       "</style>\n",
       "<table border=\"1\" class=\"dataframe\">\n",
       "  <thead>\n",
       "    <tr style=\"text-align: right;\">\n",
       "      <th></th>\n",
       "      <th>Health_exp_per_capita_USD_2016</th>\n",
       "      <th>Physicians_per_1000_2009-18</th>\n",
       "    </tr>\n",
       "  </thead>\n",
       "  <tbody>\n",
       "    <tr>\n",
       "      <th>count</th>\n",
       "      <td>177.000000</td>\n",
       "      <td>177.000000</td>\n",
       "    </tr>\n",
       "    <tr>\n",
       "      <th>mean</th>\n",
       "      <td>852.522034</td>\n",
       "      <td>1.592655</td>\n",
       "    </tr>\n",
       "    <tr>\n",
       "      <th>std</th>\n",
       "      <td>1312.996825</td>\n",
       "      <td>1.413049</td>\n",
       "    </tr>\n",
       "    <tr>\n",
       "      <th>min</th>\n",
       "      <td>16.400000</td>\n",
       "      <td>0.000000</td>\n",
       "    </tr>\n",
       "    <tr>\n",
       "      <th>25%</th>\n",
       "      <td>79.900000</td>\n",
       "      <td>0.300000</td>\n",
       "    </tr>\n",
       "    <tr>\n",
       "      <th>50%</th>\n",
       "      <td>303.600000</td>\n",
       "      <td>1.200000</td>\n",
       "    </tr>\n",
       "    <tr>\n",
       "      <th>75%</th>\n",
       "      <td>955.200000</td>\n",
       "      <td>2.600000</td>\n",
       "    </tr>\n",
       "    <tr>\n",
       "      <th>max</th>\n",
       "      <td>5710.600000</td>\n",
       "      <td>5.400000</td>\n",
       "    </tr>\n",
       "  </tbody>\n",
       "</table>\n",
       "</div>"
      ],
      "text/plain": [
       "       Health_exp_per_capita_USD_2016  Physicians_per_1000_2009-18\n",
       "count                      177.000000                   177.000000\n",
       "mean                       852.522034                     1.592655\n",
       "std                       1312.996825                     1.413049\n",
       "min                         16.400000                     0.000000\n",
       "25%                         79.900000                     0.300000\n",
       "50%                        303.600000                     1.200000\n",
       "75%                        955.200000                     2.600000\n",
       "max                       5710.600000                     5.400000"
      ]
     },
     "execution_count": 181,
     "metadata": {},
     "output_type": "execute_result"
    }
   ],
   "source": [
    "dataset.describe()"
   ]
  },
  {
   "cell_type": "markdown",
   "metadata": {},
   "source": [
    "From the dataset description, I can see that outliers are no longer there. Just for the reader's notice, the first time I did a linear regression algorithm with outliers in it, and the result without outliers is better. Therefore, data preparation is a very important step in machine learning."
   ]
  },
  {
   "cell_type": "markdown",
   "metadata": {
    "id": "gyWrozriV8jZ"
   },
   "source": [
    "## Section 2: Linear Regression\n",
    "\n",
    "Now it is time to do linear regression. I will use sklearn to split data in the training set - 80% and the testing set - 20%. Then I will fit the linear regression model with my training set. I will visualize my regressor and show the errors."
   ]
  },
  {
   "cell_type": "code",
   "execution_count": 183,
   "metadata": {},
   "outputs": [],
   "source": [
    "import numpy as np\n",
    "import pandas as pd\n",
    "import matplotlib.pyplot as plt \n",
    "from matplotlib.colors import ListedColormap\n",
    "import seaborn as seabornInstance \n",
    "from sklearn.model_selection import train_test_split \n",
    "from sklearn.linear_model import LinearRegression\n",
    "from sklearn import metrics\n",
    "%matplotlib inline"
   ]
  },
  {
   "cell_type": "code",
   "execution_count": 184,
   "metadata": {},
   "outputs": [
    {
     "data": {
      "image/png": "[encoded data removed]",
      "text/plain": [
       "<Figure size 432x288 with 1 Axes>"
      ]
     },
     "metadata": {
      "needs_background": "light"
     },
     "output_type": "display_data"
    }
   ],
   "source": [
    "plt.scatter(dataset[\"Health_exp_per_capita_USD_2016\"], dataset[\"Physicians_per_1000_2009-18\"], color='y', alpha=.7)\n",
    "plt.title(\"Data\")\n",
    "plt.xlabel(\"Health_exp_per_capita_USD_2016\")\n",
    "plt.ylabel(\"Physicians_per_1000_2009-18\")\n",
    "plt.show()"
   ]
  },
  {
   "cell_type": "markdown",
   "metadata": {
    "id": "ktuHX_5dV8ja"
   },
   "source": [
    "Nice and then we use sklearn to create a training set and test set. I will reserve 20% of the dataset for testing."
   ]
  },
  {
   "cell_type": "code",
   "execution_count": 185,
   "metadata": {
    "id": "xSN4JPErV8ja"
   },
   "outputs": [],
   "source": [
    "# Sklearn to split dataset"
   ]
  },
  {
   "cell_type": "code",
   "execution_count": 186,
   "metadata": {},
   "outputs": [],
   "source": [
    "X_train, X_test, y_train, y_test = train_test_split(dataset[\"Health_exp_per_capita_USD_2016\"], dataset[\"Physicians_per_1000_2009-18\"], test_size=0.2, random_state=0)"
   ]
  },
  {
   "cell_type": "code",
   "execution_count": 187,
   "metadata": {},
   "outputs": [
    {
     "data": {
      "image/png": "[encoded data removed]",
      "text/plain": [
       "<Figure size 432x288 with 1 Axes>"
      ]
     },
     "metadata": {
      "needs_background": "light"
     },
     "output_type": "display_data"
    }
   ],
   "source": [
    "plt.scatter(X_train, y_train, label=\"Traning\", color='y', alpha=.7)\n",
    "plt.scatter(X_test, y_test, label=\"Testing\", color='r', alpha=.7)\n",
    "plt.legend()\n",
    "plt.title(\"Training/Testing Data Split\")\n",
    "plt.xlabel(\"Health_exp_per_capita_USD_2016\")\n",
    "plt.ylabel(\"Physicians_per_1000_2009-18\")\n",
    "plt.show()"
   ]
  },
  {
   "cell_type": "code",
   "execution_count": 188,
   "metadata": {
    "id": "9C8Iw7FdV8ja"
   },
   "outputs": [],
   "source": [
    "#Sklearn to create and Linear Regressor and fit data to it"
   ]
  },
  {
   "cell_type": "code",
   "execution_count": 189,
   "metadata": {},
   "outputs": [
    {
     "data": {
      "text/plain": [
       "LinearRegression()"
      ]
     },
     "execution_count": 189,
     "metadata": {},
     "output_type": "execute_result"
    }
   ],
   "source": [
    "regressor = LinearRegression()\n",
    "regressor.fit(X_train.values.reshape(-1,1), y_train.values) #training the algorithm"
   ]
  },
  {
   "cell_type": "code",
   "execution_count": 190,
   "metadata": {},
   "outputs": [
    {
     "data": {
      "image/png": "[encoded data removed]",
      "text/plain": [
       "<Figure size 432x288 with 1 Axes>"
      ]
     },
     "metadata": {
      "needs_background": "light"
     },
     "output_type": "display_data"
    }
   ],
   "source": [
    "prediction = regressor.predict(X_test.values.reshape(-1,1))\n",
    "plt.plot(X_test, prediction, label = \"Linear Regression\", color = 'r')\n",
    "plt.scatter(X_train, y_train, label=\"Actual traning\", color='b', alpha=.7)\n",
    "plt.scatter(X_test, y_test, label=\"Actual testing\", color='g', alpha=.7)\n",
    "plt.legend()\n",
    "plt.show()\n"
   ]
  },
  {
   "cell_type": "markdown",
   "metadata": {
    "id": "M2id7VylV8jb"
   },
   "source": [
    "To make sure that model works I will make a prediction. Let's assume that city spends $4000 on the health system. How many physitians per 1000 people we will get? The result is 3.75 which is very accurate according to the plot above."
   ]
  },
  {
   "cell_type": "code",
   "execution_count": 191,
   "metadata": {
    "id": "hxkRFYw9V8jb"
   },
   "outputs": [
    {
     "data": {
      "text/plain": [
       "3.7566433675847146"
      ]
     },
     "execution_count": 191,
     "metadata": {},
     "output_type": "execute_result"
    }
   ],
   "source": [
    "# predict number of physitians if expencis per capita $4000\n",
    "regressor.predict(np.array([[4000]]))[0]"
   ]
  },
  {
   "cell_type": "code",
   "execution_count": 192,
   "metadata": {},
   "outputs": [],
   "source": [
    "y_pred = regressor.predict(X_test.values.reshape(-1,1)) "
   ]
  },
  {
   "cell_type": "code",
   "execution_count": 193,
   "metadata": {
    "id": "_b5KdsOlV8jc"
   },
   "outputs": [],
   "source": [
    "# Linear regression model to report accuracy/error rate on the test set"
   ]
  },
  {
   "cell_type": "code",
   "execution_count": 194,
   "metadata": {},
   "outputs": [],
   "source": [
    "from sklearn.metrics import r2_score\n",
    "from sklearn.metrics import explained_variance_score\n",
    "from sklearn.metrics import mean_squared_error"
   ]
  },
  {
   "cell_type": "code",
   "execution_count": 195,
   "metadata": {},
   "outputs": [
    {
     "name": "stdout",
     "output_type": "stream",
     "text": [
      "r2 - # The closer towards 1, the better the fit 0.37861265326238636\n",
      "Mean Absolute Error: 0.9621419794755239\n",
      "Mean Squared Error: 1.3700967690355461\n"
     ]
    }
   ],
   "source": [
    "print('r2 - # The closer towards 1, the better the fit',regressor.score(X_test.values.reshape(-1,1), y_test.values))\n",
    "print('Mean Absolute Error:', metrics.mean_absolute_error(y_test, y_pred))\n",
    "print('Mean Squared Error:', metrics.mean_squared_error(y_test, y_pred))"
   ]
  },
  {
   "cell_type": "markdown",
   "metadata": {
    "id": "WoOc58Q-V8jc"
   },
   "source": [
    "The r2 score is 0.37 which is a poor result. Probably, the model is not that accurate as I expected to get. It is visually understandable since data points are spread out from the regressor line on the plot. Dependency is not as linear as I expected it to be before starting to work on that dataset."
   ]
  },
  {
   "cell_type": "markdown",
   "metadata": {
    "id": "PNfbgammV8jd"
   },
   "source": [
    "## Section 3: Prepping the classification dataset\n",
    "\n",
    "The dataset for classification has seven-column. I will map non-numerical column data to digits. The sex column will change to 1 for male and 0 for female, the region will change to 4 different digits: 'northwest':1, 'southeast':2, 'southwest':3, 'northeast':4. The smoker column becomes a target of classification and I will move it to a separate column calls target. The values become 1 for smokers and 0 for non-smokers people."
   ]
  },
  {
   "cell_type": "code",
   "execution_count": 196,
   "metadata": {},
   "outputs": [],
   "source": [
    "import pandas as pd\n",
    "import numpy as np\n",
    "\n",
    "import matplotlib.pyplot as plt # plotting\n",
    "import seaborn as sns # plotting\n",
    "sns.set()\n",
    "import warnings # turn off warnings for final notebook\n",
    "warnings.filterwarnings(\"ignore\")\n",
    "import os # accessing directory structure\n",
    "\n",
    "from matplotlib.colors import ListedColormap\n",
    "\n",
    "from sklearn.model_selection import train_test_split \n",
    "from sklearn.linear_model import LinearRegression\n",
    "from sklearn import metrics\n",
    "%matplotlib inline"
   ]
  },
  {
   "cell_type": "code",
   "execution_count": 197,
   "metadata": {},
   "outputs": [
    {
     "data": {
      "text/html": [
       "<div>\n",
       "<style scoped>\n",
       "    .dataframe tbody tr th:only-of-type {\n",
       "        vertical-align: middle;\n",
       "    }\n",
       "\n",
       "    .dataframe tbody tr th {\n",
       "        vertical-align: top;\n",
       "    }\n",
       "\n",
       "    .dataframe thead th {\n",
       "        text-align: right;\n",
       "    }\n",
       "</style>\n",
       "<table border=\"1\" class=\"dataframe\">\n",
       "  <thead>\n",
       "    <tr style=\"text-align: right;\">\n",
       "      <th></th>\n",
       "      <th>age</th>\n",
       "      <th>sex</th>\n",
       "      <th>bmi</th>\n",
       "      <th>children</th>\n",
       "      <th>smoker</th>\n",
       "      <th>region</th>\n",
       "      <th>charges</th>\n",
       "    </tr>\n",
       "  </thead>\n",
       "  <tbody>\n",
       "    <tr>\n",
       "      <th>0</th>\n",
       "      <td>19</td>\n",
       "      <td>female</td>\n",
       "      <td>27.900</td>\n",
       "      <td>0</td>\n",
       "      <td>yes</td>\n",
       "      <td>southwest</td>\n",
       "      <td>16884.92400</td>\n",
       "    </tr>\n",
       "    <tr>\n",
       "      <th>1</th>\n",
       "      <td>18</td>\n",
       "      <td>male</td>\n",
       "      <td>33.770</td>\n",
       "      <td>1</td>\n",
       "      <td>no</td>\n",
       "      <td>southeast</td>\n",
       "      <td>1725.55230</td>\n",
       "    </tr>\n",
       "    <tr>\n",
       "      <th>2</th>\n",
       "      <td>28</td>\n",
       "      <td>male</td>\n",
       "      <td>33.000</td>\n",
       "      <td>3</td>\n",
       "      <td>no</td>\n",
       "      <td>southeast</td>\n",
       "      <td>4449.46200</td>\n",
       "    </tr>\n",
       "    <tr>\n",
       "      <th>3</th>\n",
       "      <td>33</td>\n",
       "      <td>male</td>\n",
       "      <td>22.705</td>\n",
       "      <td>0</td>\n",
       "      <td>no</td>\n",
       "      <td>northwest</td>\n",
       "      <td>21984.47061</td>\n",
       "    </tr>\n",
       "    <tr>\n",
       "      <th>4</th>\n",
       "      <td>32</td>\n",
       "      <td>male</td>\n",
       "      <td>28.880</td>\n",
       "      <td>0</td>\n",
       "      <td>no</td>\n",
       "      <td>northwest</td>\n",
       "      <td>3866.85520</td>\n",
       "    </tr>\n",
       "    <tr>\n",
       "      <th>5</th>\n",
       "      <td>31</td>\n",
       "      <td>female</td>\n",
       "      <td>25.740</td>\n",
       "      <td>0</td>\n",
       "      <td>no</td>\n",
       "      <td>southeast</td>\n",
       "      <td>3756.62160</td>\n",
       "    </tr>\n",
       "    <tr>\n",
       "      <th>6</th>\n",
       "      <td>46</td>\n",
       "      <td>female</td>\n",
       "      <td>33.440</td>\n",
       "      <td>1</td>\n",
       "      <td>no</td>\n",
       "      <td>southeast</td>\n",
       "      <td>8240.58960</td>\n",
       "    </tr>\n",
       "    <tr>\n",
       "      <th>7</th>\n",
       "      <td>37</td>\n",
       "      <td>female</td>\n",
       "      <td>27.740</td>\n",
       "      <td>3</td>\n",
       "      <td>no</td>\n",
       "      <td>northwest</td>\n",
       "      <td>7281.50560</td>\n",
       "    </tr>\n",
       "    <tr>\n",
       "      <th>8</th>\n",
       "      <td>37</td>\n",
       "      <td>male</td>\n",
       "      <td>29.830</td>\n",
       "      <td>2</td>\n",
       "      <td>no</td>\n",
       "      <td>northeast</td>\n",
       "      <td>6406.41070</td>\n",
       "    </tr>\n",
       "    <tr>\n",
       "      <th>9</th>\n",
       "      <td>60</td>\n",
       "      <td>female</td>\n",
       "      <td>25.840</td>\n",
       "      <td>0</td>\n",
       "      <td>no</td>\n",
       "      <td>northwest</td>\n",
       "      <td>28923.13692</td>\n",
       "    </tr>\n",
       "    <tr>\n",
       "      <th>10</th>\n",
       "      <td>25</td>\n",
       "      <td>male</td>\n",
       "      <td>26.220</td>\n",
       "      <td>0</td>\n",
       "      <td>no</td>\n",
       "      <td>northeast</td>\n",
       "      <td>2721.32080</td>\n",
       "    </tr>\n",
       "    <tr>\n",
       "      <th>11</th>\n",
       "      <td>62</td>\n",
       "      <td>female</td>\n",
       "      <td>26.290</td>\n",
       "      <td>0</td>\n",
       "      <td>yes</td>\n",
       "      <td>southeast</td>\n",
       "      <td>27808.72510</td>\n",
       "    </tr>\n",
       "    <tr>\n",
       "      <th>12</th>\n",
       "      <td>23</td>\n",
       "      <td>male</td>\n",
       "      <td>34.400</td>\n",
       "      <td>0</td>\n",
       "      <td>no</td>\n",
       "      <td>southwest</td>\n",
       "      <td>1826.84300</td>\n",
       "    </tr>\n",
       "    <tr>\n",
       "      <th>13</th>\n",
       "      <td>56</td>\n",
       "      <td>female</td>\n",
       "      <td>39.820</td>\n",
       "      <td>0</td>\n",
       "      <td>no</td>\n",
       "      <td>southeast</td>\n",
       "      <td>11090.71780</td>\n",
       "    </tr>\n",
       "    <tr>\n",
       "      <th>14</th>\n",
       "      <td>27</td>\n",
       "      <td>male</td>\n",
       "      <td>42.130</td>\n",
       "      <td>0</td>\n",
       "      <td>yes</td>\n",
       "      <td>southeast</td>\n",
       "      <td>39611.75770</td>\n",
       "    </tr>\n",
       "  </tbody>\n",
       "</table>\n",
       "</div>"
      ],
      "text/plain": [
       "    age     sex     bmi  children smoker     region      charges\n",
       "0    19  female  27.900         0    yes  southwest  16884.92400\n",
       "1    18    male  33.770         1     no  southeast   1725.55230\n",
       "2    28    male  33.000         3     no  southeast   4449.46200\n",
       "3    33    male  22.705         0     no  northwest  21984.47061\n",
       "4    32    male  28.880         0     no  northwest   3866.85520\n",
       "5    31  female  25.740         0     no  southeast   3756.62160\n",
       "6    46  female  33.440         1     no  southeast   8240.58960\n",
       "7    37  female  27.740         3     no  northwest   7281.50560\n",
       "8    37    male  29.830         2     no  northeast   6406.41070\n",
       "9    60  female  25.840         0     no  northwest  28923.13692\n",
       "10   25    male  26.220         0     no  northeast   2721.32080\n",
       "11   62  female  26.290         0    yes  southeast  27808.72510\n",
       "12   23    male  34.400         0     no  southwest   1826.84300\n",
       "13   56  female  39.820         0     no  southeast  11090.71780\n",
       "14   27    male  42.130         0    yes  southeast  39611.75770"
      ]
     },
     "execution_count": 197,
     "metadata": {},
     "output_type": "execute_result"
    }
   ],
   "source": [
    "dataset = pd.read_csv('insurance.csv')\n",
    "dataset.head(15)"
   ]
  },
  {
   "cell_type": "code",
   "execution_count": 198,
   "metadata": {},
   "outputs": [
    {
     "data": {
      "text/plain": [
       "charges     False\n",
       "region      False\n",
       "smoker      False\n",
       "children    False\n",
       "bmi         False\n",
       "sex         False\n",
       "age         False\n",
       "dtype: bool"
      ]
     },
     "execution_count": 198,
     "metadata": {},
     "output_type": "execute_result"
    }
   ],
   "source": [
    "dataset.isnull().any().sort_values(ascending=False)"
   ]
  },
  {
   "cell_type": "code",
   "execution_count": 199,
   "metadata": {},
   "outputs": [],
   "source": [
    "dataset['sex'] = dataset['sex'].apply({'female':0,'male':1}.get) \n",
    "dataset['smoker'] = dataset['smoker'].apply({'yes':1, 'no':0}.get)\n",
    "dataset['region'] = dataset['region'].apply({'northwest':1, 'southeast':2, 'southwest':3, 'northeast':4}.get)"
   ]
  },
  {
   "cell_type": "markdown",
   "metadata": {},
   "source": [
    "In the code above, I checked if data needs any cleanup, which is not, and convert non-numeric features to numerical."
   ]
  },
  {
   "cell_type": "code",
   "execution_count": 200,
   "metadata": {},
   "outputs": [
    {
     "data": {
      "text/html": [
       "<div>\n",
       "<style scoped>\n",
       "    .dataframe tbody tr th:only-of-type {\n",
       "        vertical-align: middle;\n",
       "    }\n",
       "\n",
       "    .dataframe tbody tr th {\n",
       "        vertical-align: top;\n",
       "    }\n",
       "\n",
       "    .dataframe thead th {\n",
       "        text-align: right;\n",
       "    }\n",
       "</style>\n",
       "<table border=\"1\" class=\"dataframe\">\n",
       "  <thead>\n",
       "    <tr style=\"text-align: right;\">\n",
       "      <th></th>\n",
       "      <th>count</th>\n",
       "      <th>mean</th>\n",
       "      <th>std</th>\n",
       "      <th>min</th>\n",
       "      <th>25%</th>\n",
       "      <th>50%</th>\n",
       "      <th>75%</th>\n",
       "      <th>max</th>\n",
       "    </tr>\n",
       "  </thead>\n",
       "  <tbody>\n",
       "    <tr>\n",
       "      <th>age</th>\n",
       "      <td>1338.0</td>\n",
       "      <td>39.207025</td>\n",
       "      <td>14.049960</td>\n",
       "      <td>18.0000</td>\n",
       "      <td>27.00000</td>\n",
       "      <td>39.000</td>\n",
       "      <td>51.000000</td>\n",
       "      <td>64.00000</td>\n",
       "    </tr>\n",
       "    <tr>\n",
       "      <th>sex</th>\n",
       "      <td>1338.0</td>\n",
       "      <td>0.505232</td>\n",
       "      <td>0.500160</td>\n",
       "      <td>0.0000</td>\n",
       "      <td>0.00000</td>\n",
       "      <td>1.000</td>\n",
       "      <td>1.000000</td>\n",
       "      <td>1.00000</td>\n",
       "    </tr>\n",
       "    <tr>\n",
       "      <th>bmi</th>\n",
       "      <td>1338.0</td>\n",
       "      <td>30.663397</td>\n",
       "      <td>6.098187</td>\n",
       "      <td>15.9600</td>\n",
       "      <td>26.29625</td>\n",
       "      <td>30.400</td>\n",
       "      <td>34.693750</td>\n",
       "      <td>53.13000</td>\n",
       "    </tr>\n",
       "    <tr>\n",
       "      <th>children</th>\n",
       "      <td>1338.0</td>\n",
       "      <td>1.094918</td>\n",
       "      <td>1.205493</td>\n",
       "      <td>0.0000</td>\n",
       "      <td>0.00000</td>\n",
       "      <td>1.000</td>\n",
       "      <td>2.000000</td>\n",
       "      <td>5.00000</td>\n",
       "    </tr>\n",
       "    <tr>\n",
       "      <th>smoker</th>\n",
       "      <td>1338.0</td>\n",
       "      <td>0.204783</td>\n",
       "      <td>0.403694</td>\n",
       "      <td>0.0000</td>\n",
       "      <td>0.00000</td>\n",
       "      <td>0.000</td>\n",
       "      <td>0.000000</td>\n",
       "      <td>1.00000</td>\n",
       "    </tr>\n",
       "    <tr>\n",
       "      <th>region</th>\n",
       "      <td>1338.0</td>\n",
       "      <td>2.484305</td>\n",
       "      <td>1.104885</td>\n",
       "      <td>1.0000</td>\n",
       "      <td>2.00000</td>\n",
       "      <td>2.000</td>\n",
       "      <td>3.000000</td>\n",
       "      <td>4.00000</td>\n",
       "    </tr>\n",
       "    <tr>\n",
       "      <th>charges</th>\n",
       "      <td>1338.0</td>\n",
       "      <td>13270.422265</td>\n",
       "      <td>12110.011237</td>\n",
       "      <td>1121.8739</td>\n",
       "      <td>4740.28715</td>\n",
       "      <td>9382.033</td>\n",
       "      <td>16639.912515</td>\n",
       "      <td>63770.42801</td>\n",
       "    </tr>\n",
       "  </tbody>\n",
       "</table>\n",
       "</div>"
      ],
      "text/plain": [
       "           count          mean           std        min         25%       50%  \\\n",
       "age       1338.0     39.207025     14.049960    18.0000    27.00000    39.000   \n",
       "sex       1338.0      0.505232      0.500160     0.0000     0.00000     1.000   \n",
       "bmi       1338.0     30.663397      6.098187    15.9600    26.29625    30.400   \n",
       "children  1338.0      1.094918      1.205493     0.0000     0.00000     1.000   \n",
       "smoker    1338.0      0.204783      0.403694     0.0000     0.00000     0.000   \n",
       "region    1338.0      2.484305      1.104885     1.0000     2.00000     2.000   \n",
       "charges   1338.0  13270.422265  12110.011237  1121.8739  4740.28715  9382.033   \n",
       "\n",
       "                   75%          max  \n",
       "age          51.000000     64.00000  \n",
       "sex           1.000000      1.00000  \n",
       "bmi          34.693750     53.13000  \n",
       "children      2.000000      5.00000  \n",
       "smoker        0.000000      1.00000  \n",
       "region        3.000000      4.00000  \n",
       "charges   16639.912515  63770.42801  "
      ]
     },
     "execution_count": 200,
     "metadata": {},
     "output_type": "execute_result"
    }
   ],
   "source": [
    "dataset.describe().transpose()"
   ]
  },
  {
   "cell_type": "code",
   "execution_count": 201,
   "metadata": {},
   "outputs": [
    {
     "data": {
      "text/plain": [
       "<AxesSubplot:>"
      ]
     },
     "execution_count": 201,
     "metadata": {},
     "output_type": "execute_result"
    },
    {
     "data": {
      "image/png": "[encoded data removed]",
      "text/plain": [
       "<Figure size 1152x576 with 2 Axes>"
      ]
     },
     "metadata": {
      "needs_background": "light"
     },
     "output_type": "display_data"
    }
   ],
   "source": [
    "corr = dataset.corr()\n",
    "plt.figure(figsize=(16, 8))\n",
    "sns.heatmap(corr, annot=True, cmap = 'viridis')"
   ]
  },
  {
   "cell_type": "markdown",
   "metadata": {},
   "source": [
    "The smoker column has the highest correlation to insurance charges, I think the smoker column will be a perfect target for the classification algorithm."
   ]
  },
  {
   "cell_type": "code",
   "execution_count": 202,
   "metadata": {},
   "outputs": [],
   "source": [
    "insurance = dataset.drop('smoker',axis='columns')\n",
    "target = dataset['smoker']"
   ]
  },
  {
   "cell_type": "code",
   "execution_count": 203,
   "metadata": {},
   "outputs": [
    {
     "data": {
      "text/plain": [
       "0    1\n",
       "1    0\n",
       "2    0\n",
       "3    0\n",
       "4    0\n",
       "Name: smoker, dtype: int64"
      ]
     },
     "execution_count": 203,
     "metadata": {},
     "output_type": "execute_result"
    }
   ],
   "source": [
    "target.head()"
   ]
  },
  {
   "cell_type": "markdown",
   "metadata": {
    "id": "s56Nk8g2V8jf"
   },
   "source": [
    "## Section 4: Classification with a Neural Network (or classifier of choice)\n",
    "\n",
    "Now it is time to do a decision tree algorithm. I will use sklearn to split data between the training set - 80% and the testing set - 20%. Then I will fit the decision tree model with my training set. I will show the errors."
   ]
  },
  {
   "cell_type": "code",
   "execution_count": 204,
   "metadata": {
    "id": "YqB8FssiV8jg"
   },
   "outputs": [],
   "source": [
    "#Sklearn to split dataset\n",
    "X_train, X_test, y_train, y_test = train_test_split(insurance, target, test_size=0.2, random_state=0)"
   ]
  },
  {
   "cell_type": "code",
   "execution_count": 205,
   "metadata": {
    "id": "6dXRTEKhV8jg"
   },
   "outputs": [
    {
     "data": {
      "text/plain": [
       "array([[0.02173913, 0.        , 0.3212268 , 0.        , 0.66666667,\n",
       "        0.25161076],\n",
       "       [0.        , 1.        , 0.47914985, 0.2       , 0.33333333,\n",
       "        0.00963595],\n",
       "       [0.2173913 , 1.        , 0.45843422, 0.6       , 0.33333333,\n",
       "        0.05311516],\n",
       "       ...,\n",
       "       [0.        , 0.        , 0.56201238, 0.        , 0.33333333,\n",
       "        0.00810808],\n",
       "       [0.06521739, 0.        , 0.26472962, 0.        , 0.66666667,\n",
       "        0.01414352],\n",
       "       [0.93478261, 0.        , 0.35270379, 0.        , 0.        ,\n",
       "        0.44724873]])"
      ]
     },
     "execution_count": 205,
     "metadata": {},
     "output_type": "execute_result"
    }
   ],
   "source": [
    "from sklearn.preprocessing import MinMaxScaler\n",
    "scaler = MinMaxScaler()\n",
    "scaler.fit_transform(insurance)"
   ]
  },
  {
   "cell_type": "markdown",
   "metadata": {
    "id": "5kvbChaZV8jh"
   },
   "source": [
    "After data scaled, to prevent overfilling the model, I will do fit."
   ]
  },
  {
   "cell_type": "code",
   "execution_count": 206,
   "metadata": {
    "id": "IJZaLpFUV8ji"
   },
   "outputs": [],
   "source": [
    "from sklearn import tree\n",
    "model = tree.DecisionTreeClassifier()"
   ]
  },
  {
   "cell_type": "code",
   "execution_count": 207,
   "metadata": {
    "id": "CP_R0ziFV8ji"
   },
   "outputs": [
    {
     "data": {
      "text/plain": [
       "DecisionTreeClassifier()"
      ]
     },
     "execution_count": 207,
     "metadata": {},
     "output_type": "execute_result"
    }
   ],
   "source": [
    "model.fit(X_train, y_train)"
   ]
  },
  {
   "cell_type": "markdown",
   "metadata": {
    "id": "s954EVgYV8ji"
   },
   "source": [
    "Now let's predict if people smokers or not. I am the third prediction and I am not a smoker, which is correct. Prediction displays 1 if person smoker and 0 if not."
   ]
  },
  {
   "cell_type": "code",
   "execution_count": 208,
   "metadata": {},
   "outputs": [
    {
     "data": {
      "text/plain": [
       "array([1], dtype=int64)"
      ]
     },
     "execution_count": 208,
     "metadata": {},
     "output_type": "execute_result"
    }
   ],
   "source": [
    "model.predict([[56, 1, 28.0, 1, 2, 45987.0]])"
   ]
  },
  {
   "cell_type": "code",
   "execution_count": 209,
   "metadata": {},
   "outputs": [
    {
     "data": {
      "text/plain": [
       "array([0], dtype=int64)"
      ]
     },
     "execution_count": 209,
     "metadata": {},
     "output_type": "execute_result"
    }
   ],
   "source": [
    "model.predict([[33, 1, 26.5, 0, 4, 567.9]])"
   ]
  },
  {
   "cell_type": "code",
   "execution_count": 210,
   "metadata": {},
   "outputs": [
    {
     "data": {
      "text/plain": [
       "array([0], dtype=int64)"
      ]
     },
     "execution_count": 210,
     "metadata": {},
     "output_type": "execute_result"
    }
   ],
   "source": [
    "model.predict([[31, 0, 22.5, 0, 4, 0.0]]) #I am 31 years old, bmi 22.5, no kids and live in northeast, no spending on insurance"
   ]
  },
  {
   "cell_type": "code",
   "execution_count": 211,
   "metadata": {
    "id": "A3UM1V3KV8jj"
   },
   "outputs": [],
   "source": [
    "y_pred = model.predict(X_test) \n",
    "from sklearn.metrics import r2_score\n",
    "from sklearn.metrics import explained_variance_score\n",
    "from sklearn.metrics import mean_squared_error"
   ]
  },
  {
   "cell_type": "code",
   "execution_count": 212,
   "metadata": {},
   "outputs": [
    {
     "name": "stdout",
     "output_type": "stream",
     "text": [
      "r2 - # The closer towards 1, the better the fit 0.9440298507462687\n",
      "Root Mean Squared Error: 0.23658011170369192\n"
     ]
    }
   ],
   "source": [
    "print('r2 - # The closer towards 1, the better the fit',model.score(X_test, y_test))\n",
    "print('Root Mean Squared Error:', np.sqrt(metrics.mean_squared_error(y_test, y_pred)))"
   ]
  },
  {
   "cell_type": "markdown",
   "metadata": {
    "id": "DfgX1SoFV8jk"
   },
   "source": [
    "Based on that result, the neural network is very accurate. The r2 value is very close to 1, which is good. The root mean square error is very low. The prediction value looks correct and I think this is a good result. The decision tree was my second choice and I am glad that this classifier type showed a pretty accurate result. I think my choice of the dataset for classifier was good."
   ]
  },
  {
   "cell_type": "markdown",
   "metadata": {
    "id": "sxDPJhpAV8jk"
   },
   "source": [
    "## Conclusions\n",
    "\n",
    "In a conclusion, The linear regression showed a poor result. Probably, the model is not that accurate as I expected to get. It is visually understandable since data points are spread out from the regressor line on the plot. Dependency is not as linear as I expected it to be before starting to work on that dataset. For future work on linear regression, I would select more features for the model, it might improve the r2 score. If it does not happen, the different dataset selection would be good.\n",
    "\n",
    "The result of the classifier is amazing. It's more accurate than I expected to get. I definitely can see dependency between features and target. I would not improve anything but would be nice to try different classifiers algorithms on the same dataset.\n",
    "\n",
    "The whole work on the assignment was interesting. I found a correlation that I was not expecting to get and I am joined to work on human health-related datasets."
   ]
  },
  {
   "cell_type": "code",
   "execution_count": null,
   "metadata": {
    "id": "Z4MZxxrVV8jk"
   },
   "outputs": [],
   "source": []
  }
 ],
 "metadata": {
  "colab": {
   "name": "Copy of cats_example_2.0.ipynb",
   "provenance": []
  },
  "kernelspec": {
   "display_name": "Python 3",
   "language": "python",
   "name": "python3"
  },
  "language_info": {
   "codemirror_mode": {
    "name": "ipython",
    "version": 3
   },
   "file_extension": ".py",
   "mimetype": "text/x-python",
   "name": "python",
   "nbconvert_exporter": "python",
   "pygments_lexer": "ipython3",
   "version": "3.8.5"
  }
 },
 "nbformat": 4,
 "nbformat_minor": 1
}
